{
  "nbformat": 4,
  "nbformat_minor": 0,
  "metadata": {
    "colab": {
      "provenance": [],
      "authorship_tag": "ABX9TyN8LP0KZ3uojjwIiso9JNSX",
      "include_colab_link": true
    },
    "kernelspec": {
      "name": "python3",
      "display_name": "Python 3"
    },
    "language_info": {
      "name": "python"
    }
  },
  "cells": [
    {
      "cell_type": "markdown",
      "metadata": {
        "id": "view-in-github",
        "colab_type": "text"
      },
      "source": [
        "<a href=\"https://colab.research.google.com/github/ekyuho/2024-fall-ewha-capston-design-project/blob/main/final_order.ipynb\" target=\"_parent\"><img src=\"https://colab.research.google.com/assets/colab-badge.svg\" alt=\"Open In Colab\"/></a>"
      ]
    },
    {
      "cell_type": "code",
      "execution_count": 3,
      "metadata": {
        "colab": {
          "base_uri": "https://localhost:8080/"
        },
        "id": "sEptxEzvN1c0",
        "outputId": "8026c2d5-42d3-4942-f71e-9f53518dc05d"
      },
      "outputs": [
        {
          "output_type": "stream",
          "name": "stdout",
          "text": [
            "1203 [29, 18, 20, 36, 16, 5]\n",
            "1205 [41, 35, 21, 17, 6, 32, 34, 39, 3, 9, 44, 31, 19]\n",
            "1210 [10, 15, 11, 25, 43, 4]\n",
            "1212 [23, 40, 1, 8, 42, 26, 30, 2, 14, 28, 37, 33, 13]\n",
            "1217 [7, 22, 27, 38, 12, 24]\n"
          ]
        }
      ],
      "source": [
        "import random\n",
        "\n",
        "schedule={'1203': [5, 16, 18, 20, 29, 36],\n",
        "          '1205': [3, 6, 9, 17, 19, 21, 31, 32, 34, 35, 39, 41, 44],\n",
        "          '1210': [4, 10, 11, 15, 25, 43],\n",
        "          '1212': [1, 2, 8, 13, 14, 23, 26, 28, 30, 33, 37, 40, 42],\n",
        "          '1217': [7, 12, 22, 24, 27, 38]\n",
        "}\n",
        "\n",
        "all=[]\n",
        "for d in schedule:\n",
        "  schedule[d]= random.sample(schedule[d], len(schedule[d]))\n",
        "  all.extend(schedule[d])\n",
        "\n",
        "# 23팀 시험관계로 앞순서 희망\n",
        "schedule['1212'].remove(23)\n",
        "schedule['1212'].insert(0,23)\n",
        "\n",
        "all.sort()\n",
        "for i in range(44):\n",
        "  if all[i]!= i+1: print('missing ', i, all[i])\n",
        "\n",
        "for d in schedule:\n",
        "    print(d, schedule[d])"
      ]
    },
    {
      "cell_type": "code",
      "source": [
        "a=[]\n",
        "for\n",
        "\n",
        "44'''\n",
        "a1=[int(x) for x in a.split('\\n')]"
      ],
      "metadata": {
        "id": "pV16wt2SOAJU"
      },
      "execution_count": null,
      "outputs": []
    },
    {
      "cell_type": "code",
      "source": [
        "a1"
      ],
      "metadata": {
        "colab": {
          "base_uri": "https://localhost:8080/"
        },
        "id": "yAAWkXjHOKjs",
        "outputId": "6328e47c-58c0-4a61-8309-4f92a0b1c92d"
      },
      "execution_count": null,
      "outputs": [
        {
          "output_type": "execute_result",
          "data": {
            "text/plain": [
              "[3, 6, 9, 10, 15, 17, 19, 21, 25, 26, 31, 32, 34, 35, 39, 41, 44]"
            ]
          },
          "metadata": {},
          "execution_count": 16
        }
      ]
    },
    {
      "cell_type": "code",
      "source": [
        "i=1\n",
        "for n in randomized:\n",
        "  print(n, i)\n",
        "  i+=1"
      ],
      "metadata": {
        "colab": {
          "base_uri": "https://localhost:8080/"
        },
        "id": "GbEljw7zOLCT",
        "outputId": "2c9d450c-965d-4b69-ce4d-55e8a2400537"
      },
      "execution_count": null,
      "outputs": [
        {
          "output_type": "stream",
          "name": "stdout",
          "text": [
            "41 1\n",
            "19 2\n",
            "17 3\n",
            "31 4\n",
            "6 5\n",
            "9 6\n",
            "44 7\n",
            "39 8\n",
            "34 9\n",
            "32 10\n",
            "35 11\n",
            "3 12\n",
            "21 13\n",
            "26 14\n",
            "25 15\n",
            "15 16\n",
            "10 17\n"
          ]
        }
      ]
    },
    {
      "cell_type": "code",
      "source": [],
      "metadata": {
        "id": "YjTI2rkyOq7a"
      },
      "execution_count": null,
      "outputs": []
    }
  ]
}