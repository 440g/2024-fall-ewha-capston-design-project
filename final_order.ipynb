{
  "nbformat": 4,
  "nbformat_minor": 0,
  "metadata": {
    "colab": {
      "provenance": [],
      "authorship_tag": "ABX9TyNz1EXYGK2ZCSILf8Bhi6ja",
      "include_colab_link": true
    },
    "kernelspec": {
      "name": "python3",
      "display_name": "Python 3"
    },
    "language_info": {
      "name": "python"
    }
  },
  "cells": [
    {
      "cell_type": "markdown",
      "metadata": {
        "id": "view-in-github",
        "colab_type": "text"
      },
      "source": [
        "<a href=\"https://colab.research.google.com/github/ekyuho/2024-fall-ewha-capston-design-project/blob/main/final_order.ipynb\" target=\"_parent\"><img src=\"https://colab.research.google.com/assets/colab-badge.svg\" alt=\"Open In Colab\"/></a>"
      ]
    },
    {
      "cell_type": "code",
      "execution_count": null,
      "metadata": {
        "id": "sEptxEzvN1c0"
      },
      "outputs": [],
      "source": [
        "import random\n",
        "\n",
        "schedule={'1203': [5, 13, 16, 18, 20, 29],\n",
        "          '1205': [3, 6, 9, 17, 19, 21, 31, 32, 34, 35, 39, 41, 44],\n",
        "          '1210': [4, 10, 11, 15, 25, 43],\n",
        "          '1212': [1, 2, 7, 8, 14, 23,  26, 28, 30, 33, 37, 40, 42],\n",
        "          '1217': [12, 22, 24, 27, 36, 38]\n",
        "}\n",
        "\n",
        "all=[]\n",
        "for d in schedule:\n",
        "  schedule[d]= random.sample(schedule[d], len(schedule[d]))\n",
        "  all.extend(schedule[d])\n",
        "\n",
        "# 23팀 시험관계로 앞순서 희망\n",
        "schedule['1212'].remove(23)\n",
        "schedule['1212'].insert(0,23)\n",
        "\n",
        "all.sort()\n",
        "for i in range(44):\n",
        "  if all[i]!= i+1: print('missing ', i, all[i])\n",
        "\n",
        "for d in schedule:\n",
        "    print(d, schedule[d])"
      ]
    },
    {
      "cell_type": "code",
      "source": [],
      "metadata": {
        "id": "YjTI2rkyOq7a"
      },
      "execution_count": null,
      "outputs": []
    }
  ]
}