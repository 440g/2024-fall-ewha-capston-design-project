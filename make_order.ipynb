{
  "nbformat": 4,
  "nbformat_minor": 0,
  "metadata": {
    "colab": {
      "provenance": [],
      "include_colab_link": true
    },
    "kernelspec": {
      "name": "python3",
      "display_name": "Python 3"
    },
    "language_info": {
      "name": "python"
    }
  },
  "cells": [
    {
      "cell_type": "markdown",
      "metadata": {
        "id": "view-in-github",
        "colab_type": "text"
      },
      "source": [
        "<a href=\"https://colab.research.google.com/github/ekyuho/2024-fall-ewha-capston-design-project/blob/main/make_order.ipynb\" target=\"_parent\"><img src=\"https://colab.research.google.com/assets/colab-badge.svg\" alt=\"Open In Colab\"/></a>"
      ]
    },
    {
      "cell_type": "code",
      "execution_count": null,
      "metadata": {
        "id": "2pKHj1nuJajQ"
      },
      "outputs": [],
      "source": [
        "import random\n",
        "\n",
        "day=['10월15일(화) 1교시','10월17일(목) 1교시', '10월17일(목) 2교시', '10월22일(화) 1교시', '10월24일(목) 1교시', '10월24일(목) 2교시', '10월29일(화) 1교시']\n",
        "teams=[]\n",
        "missing=[]\n",
        "for i in range(1,45):\n",
        "  if i not in missing: teams.append(i)\n",
        "print(teams)\n",
        "random.shuffle(teams)\n",
        "print(teams)\n",
        "print(f'total {len(teams)}팀')\n",
        "\n",
        "# 75분 한교시에 6~7팀씩 발표하는 것으로 가정\n",
        "perday=[6, 6, 7, 6, 6, 7, 6]\n",
        "count=0\n",
        "for i in range(len(day)):\n",
        "  print(day[i], end='')\n",
        "  for j in range(perday[i]):\n",
        "    if count == len(teams): break\n",
        "    print(f' {teams[count]}', end='')\n",
        "    count+=1\n",
        "  print()"
      ]
    },
    {
      "cell_type": "code",
      "source": [],
      "metadata": {
        "id": "c24vtIoGJ6DA"
      },
      "execution_count": null,
      "outputs": []
    }
  ]
}